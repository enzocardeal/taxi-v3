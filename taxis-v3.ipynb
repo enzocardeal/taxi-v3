{
 "cells": [
  {
   "cell_type": "code",
   "execution_count": 1,
   "metadata": {},
   "outputs": [],
   "source": [
    "#importando todas as bibliotecas necessárias\n",
    "import numpy as np\n",
    "import gym\n",
    "import random\n",
    "from IPython.display import clear_output\n",
    "from time import sleep"
   ]
  },
  {
   "cell_type": "code",
   "execution_count": 5,
   "metadata": {},
   "outputs": [],
   "source": [
    "env = gym.make(\"Taxi-v3\").env #iniciando o ambiente\n",
    "\n",
    "tabela_q = np.zeros([env.observation_space.n, env.action_space.n]) #iniciando a tabelo q com zeros"
   ]
  },
  {
   "cell_type": "code",
   "execution_count": null,
   "metadata": {},
   "outputs": [
    {
     "name": "stdout",
     "output_type": "stream",
     "text": [
      "+---------+\n",
      "|\u001b[35mR\u001b[0m: | : :G|\n",
      "| : | : : |\n",
      "| : : : : |\n",
      "|\u001b[43m \u001b[0m| : | : |\n",
      "|\u001b[34;1mY\u001b[0m| : |B: |\n",
      "+---------+\n",
      "  (North)\n"
     ]
    }
   ],
   "source": [
    "#treinando o algoritmo\n",
    "\n",
    "alpha = 0.1\n",
    "gamma = 0.6\n",
    "epsilon = 0.1 #determina a chance do agente tomar uma ação aleatória, nesse caso a chance é de 10%\n",
    "\n",
    "for i in range(1, 50001):\n",
    "    estado = env.reset()\n",
    "\n",
    "    epochs, penalidades, recompensa = 0, 0, 0 #epochs é cada episódio\n",
    "    terminado = False\n",
    "    \n",
    "    while not terminado:\n",
    "        if random.uniform(0, 1) < epsilon: #decidindo se será tomado uma ação aleatória ou se seguirá a política da tabela-q\n",
    "            acao = env.action_space.sample() \n",
    "        else:\n",
    "            acao = np.argmax(tabela_q[estado]) \n",
    "\n",
    "        proximo_estado, recompensa, terminado, info = env.step(acao) \n",
    "        \n",
    "        valor_antigo = tabela_q[estado, acao]\n",
    "        proximo_max = np.max(tabela_q[proximo_estado])\n",
    "        \n",
    "        valor_novo = (1 - alpha) * valor_antigo + alpha * (recompensa + gamma * proximo_max) #atualizando o valor de q a partir da equação de Bellman\n",
    "        tabela_q[estado, acao] = valor_novo #alocando este valor na tabela-q\n",
    "\n",
    "        if recompensa == -10: #contabilizando os embarques/desembarques errados\n",
    "            penalidades += 1\n",
    "\n",
    "        estado = proximo_estado\n",
    "        epochs += 1\n",
    "        \n",
    "        clear_output(wait=True) #caso não queira ver o aprendizado comentar as 3 linhas seguintes, essa incluso\n",
    "        env.render()\n",
    "        sleep(.25)  #aumentar se quiser ver melhor o aprendizado (recomendado: .25)\n",
    "        \n",
    "    if i % 100 == 0:\n",
    "        clear_output(wait=True)\n",
    "        print(f\"Episódios: {i}\")\n",
    "        #sleep(1)\n",
    "\n",
    "print(\"Treinamento terminado.\\n\")\n"
   ]
  },
  {
   "cell_type": "code",
   "execution_count": 4,
   "metadata": {},
   "outputs": [
    {
     "name": "stdout",
     "output_type": "stream",
     "text": [
      "+---------+\n",
      "|R: | : :G|\n",
      "| : | : : |\n",
      "| : : : : |\n",
      "| | : | : |\n",
      "|\u001b[35m\u001b[34;1m\u001b[43mY\u001b[0m\u001b[0m\u001b[0m| : |B: |\n",
      "+---------+\n",
      "  (Dropoff)\n",
      "Resutados depois de 100 episodios:\n",
      "Média de passos por episódio: 13.09\n",
      "Média de penalidades por episódio: 0.0\n"
     ]
    }
   ],
   "source": [
    "#testando o algoritmo\n",
    "epochs_totais, penalidades_totais = 0, 0\n",
    "episodios = 100\n",
    "\n",
    "for _ in range(episodios):\n",
    "    estado = env.reset()\n",
    "    epochs, penalidades, recompensa = 0, 0, 0\n",
    "    \n",
    "    terminado = False\n",
    "    \n",
    "    while not terminado:\n",
    "        acao = np.argmax(tabela_q[estado])\n",
    "        estado, recompensa, terminado, info = env.step(acao)\n",
    "\n",
    "        if recompensa == -10:\n",
    "            penalidades += 1\n",
    "\n",
    "        epochs += 1\n",
    "        \n",
    "        clear_output(wait=True)\n",
    "        env.render()\n",
    "        sleep(.25)\n",
    "\n",
    "    penalidades_totais += penalidades\n",
    "    epochs_totais += epochs\n",
    "\n",
    "print(f\"Resutados depois de {episodios} episodios:\")\n",
    "print(f\"Média de passos por episódio: {epochs_totais / episodios}\")\n",
    "print(f\"Média de penalidades por episódio: {penalidades_totais / episodios}\")"
   ]
  },
  {
   "cell_type": "code",
   "execution_count": null,
   "metadata": {},
   "outputs": [],
   "source": []
  }
 ],
 "metadata": {
  "kernelspec": {
   "display_name": "Python 3",
   "language": "python",
   "name": "python3"
  },
  "language_info": {
   "codemirror_mode": {
    "name": "ipython",
    "version": 3
   },
   "file_extension": ".py",
   "mimetype": "text/x-python",
   "name": "python",
   "nbconvert_exporter": "python",
   "pygments_lexer": "ipython3",
   "version": "3.7.3"
  }
 },
 "nbformat": 4,
 "nbformat_minor": 2
}
